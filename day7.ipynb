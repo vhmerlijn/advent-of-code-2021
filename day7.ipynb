{
 "cells": [
  {
   "cell_type": "markdown",
   "id": "fb901a5e",
   "metadata": {},
   "source": [
    "## Day 7: The Treachery of Whales\n",
    "\n",
    "A giant whale has decided your submarine is its next meal, and it's much faster than you are. There's nowhere to run!\n",
    "\n",
    "Suddenly, a swarm of crabs (each in its own tiny submarine - it's too deep for them otherwise) zooms in to rescue you! They seem to be preparing to blast a hole in the ocean floor; sensors indicate a massive underground cave system just beyond where they're aiming!\n",
    "\n",
    "The crab submarines all need to be aligned before they'll have enough power to blast a large enough hole for your submarine to get through. However, it doesn't look like they'll be aligned before the whale catches you! Maybe you can help?\n",
    "\n",
    "There's one major catch - crab submarines can only move horizontally.\n",
    "\n",
    "You quickly make a list of the horizontal position of each crab (your puzzle input). Crab submarines have limited fuel, so you need to find a way to make all of their horizontal positions match while requiring them to spend as little fuel as possible.\n",
    "\n",
    "For example, consider the following horizontal positions:\n",
    "\n",
    "```\n",
    "16,1,2,0,4,2,7,1,2,14\n",
    "```\n",
    "\n",
    "This means there's a crab with horizontal position 16, a crab with horizontal position 1, and so on.\n",
    "\n",
    "Each change of 1 step in horizontal position of a single crab costs 1 fuel. You could choose any horizontal position to align them all on, but the one that costs the least fuel is horizontal position 2:\n",
    "\n",
    "```\n",
    "Move from 16 to 2: 14 fuel\n",
    "Move from 1 to 2: 1 fuel\n",
    "Move from 2 to 2: 0 fuel\n",
    "Move from 0 to 2: 2 fuel\n",
    "Move from 4 to 2: 2 fuel\n",
    "Move from 2 to 2: 0 fuel\n",
    "Move from 7 to 2: 5 fuel\n",
    "Move from 1 to 2: 1 fuel\n",
    "Move from 2 to 2: 0 fuel\n",
    "Move from 14 to 2: 12 fuel\n",
    "```\n",
    "\n",
    "This costs a total of 37 fuel. This is the cheapest possible outcome; more expensive outcomes include aligning at position 1 (41 fuel), position 3 (39 fuel), or position 10 (71 fuel).\n",
    "\n",
    "Determine the horizontal position that the crabs can align to using the least fuel possible. How much fuel must they spend to align to that position?"
   ]
  },
  {
   "cell_type": "code",
   "execution_count": 24,
   "id": "ed10a399",
   "metadata": {},
   "outputs": [
    {
     "data": {
      "text/plain": [
       "168"
      ]
     },
     "execution_count": 24,
     "metadata": {},
     "output_type": "execute_result"
    }
   ],
   "source": [
    "def align_crabs(positions, part_two=False):\n",
    "    \"\"\"\n",
    "    Align crabs on the cheapest horizontal position.\n",
    "\n",
    "    Returns fuel spent to align on this position.\n",
    "\n",
    "    \"\"\"\n",
    "\n",
    "    if not part_two:\n",
    "        fuel_cost = [\n",
    "            sum([abs(x - l) for x in positions]) for l in range(1, max(positions))\n",
    "        ]\n",
    "    else:\n",
    "        # Fuel cost is now the triangular number associated to the absolute distance\n",
    "        # Formula for this is n*(n+1)/2\n",
    "        fuel_cost = [\n",
    "            sum([abs(x - l) * (abs(x - l) + 1) // 2 for x in positions])\n",
    "            for l in range(1, max(positions))\n",
    "        ]\n",
    "\n",
    "    return min(fuel_cost)\n",
    "\n",
    "\n",
    "align_crabs([16, 1, 2, 0, 4, 2, 7, 1, 2, 14], True)\n"
   ]
  },
  {
   "cell_type": "code",
   "execution_count": 14,
   "id": "4eb5a477",
   "metadata": {},
   "outputs": [
    {
     "data": {
      "text/plain": [
       "355989"
      ]
     },
     "execution_count": 14,
     "metadata": {},
     "output_type": "execute_result"
    }
   ],
   "source": [
    "with open(\"day7-input.txt\", \"r\") as infile:\n",
    "    crabs_in = [list(map(int, line.split(\",\"))) for line in infile]\n",
    "\n",
    "align_crabs(crabs_in[0])\n",
    "\n",
    "\n"
   ]
  },
  {
   "cell_type": "markdown",
   "id": "d5c91e9d",
   "metadata": {},
   "source": [
    "## Part Two\n",
    "\n",
    "The crabs don't seem interested in your proposed solution. Perhaps you misunderstand crab engineering?\n",
    "\n",
    "As it turns out, crab submarine engines don't burn fuel at a constant rate. Instead, each change of 1 step in horizontal position costs 1 more unit of fuel than the last: the first step costs 1, the second step costs 2, the third step costs 3, and so on.\n",
    "\n",
    "As each crab moves, moving further becomes more expensive. This changes the best horizontal position to align them all on; in the example above, this becomes 5:\n",
    "\n",
    "```\n",
    "Move from 16 to 5: 66 fuel\n",
    "Move from 1 to 5: 10 fuel\n",
    "Move from 2 to 5: 6 fuel\n",
    "Move from 0 to 5: 15 fuel\n",
    "Move from 4 to 5: 1 fuel\n",
    "Move from 2 to 5: 6 fuel\n",
    "Move from 7 to 5: 3 fuel\n",
    "Move from 1 to 5: 10 fuel\n",
    "Move from 2 to 5: 6 fuel\n",
    "Move from 14 to 5: 45 fuel\n",
    "```\n",
    "\n",
    "This costs a total of 168 fuel. This is the new cheapest possible outcome; the old alignment position (2) now costs 206 fuel instead.\n",
    "\n",
    "Determine the horizontal position that the crabs can align to using the least fuel possible so they can make you an escape route! How much fuel must they spend to align to that position?"
   ]
  },
  {
   "cell_type": "code",
   "execution_count": 23,
   "id": "7857731d",
   "metadata": {},
   "outputs": [
    {
     "data": {
      "text/plain": [
       "102245489"
      ]
     },
     "execution_count": 23,
     "metadata": {},
     "output_type": "execute_result"
    }
   ],
   "source": [
    "align_crabs(crabs_in[0], True)\n",
    "\n"
   ]
  }
 ],
 "metadata": {
  "kernelspec": {
   "display_name": "Python 3 (ipykernel)",
   "language": "python",
   "name": "python3"
  },
  "language_info": {
   "codemirror_mode": {
    "name": "ipython",
    "version": 3
   },
   "file_extension": ".py",
   "mimetype": "text/x-python",
   "name": "python",
   "nbconvert_exporter": "python",
   "pygments_lexer": "ipython3",
   "version": "3.9.7"
  }
 },
 "nbformat": 4,
 "nbformat_minor": 5
}
