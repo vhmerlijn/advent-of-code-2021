{
 "cells": [
  {
   "cell_type": "markdown",
   "id": "e61f5ada",
   "metadata": {},
   "source": [
    "## Day 2: Dive!\n",
    "\n",
    "Now, you need to figure out how to pilot this thing.\n",
    "\n",
    "It seems like the submarine can take a series of commands like forward 1, down 2, or up 3:\n",
    "\n",
    "forward X increases the horizontal position by X units.\n",
    "down X increases the depth by X units.\n",
    "up X decreases the depth by X units.\n",
    "Note that since you're on a submarine, down and up affect your depth, and so they have the opposite result of what you might expect.\n",
    "\n",
    "The submarine seems to already have a planned course (your puzzle input). You should probably figure out where it's going. For example:\n",
    "\n",
    "```\n",
    "forward 5\n",
    "down 5\n",
    "forward 8\n",
    "up 3\n",
    "down 8\n",
    "forward 2\n",
    "```\n",
    "\n",
    "Your horizontal position and depth both start at 0. The steps above would then modify them as follows:\n",
    "\n",
    "- forward 5 adds 5 to your horizontal position, a total of 5.\n",
    "- down 5 adds 5 to your depth, resulting in a value of 5.\n",
    "- forward 8 adds 8 to your horizontal position, a total of 13.\n",
    "- up 3 decreases your depth by 3, resulting in a value of 2.\n",
    "- down 8 adds 8 to your depth, resulting in a value of 10.\n",
    "- forward 2 adds 2 to your horizontal position, a total of 15.\n",
    "\n",
    "After following these instructions, you would have a horizontal position of 15 and a depth of 10. (Multiplying these together produces 150.)\n",
    "\n",
    "Calculate the horizontal position and depth you would have after following the planned course. What do you get if you multiply your final horizontal position by your final depth?"
   ]
  },
  {
   "cell_type": "code",
   "execution_count": 19,
   "id": "be4e7d92",
   "metadata": {},
   "outputs": [
    {
     "data": {
      "text/plain": [
       "TestResults(failed=0, attempted=1)"
      ]
     },
     "execution_count": 19,
     "metadata": {},
     "output_type": "execute_result"
    }
   ],
   "source": [
    "\n",
    "def submarine_command(planned_course):\n",
    "    \"\"\"\n",
    "    Returns position vectors of submarine given planned course\n",
    "    \n",
    "    >>> submarine_command([\"forward 5\", \"down 5\", \"forward 8\", \"up 3\", \"down 8\", \"forward 2\"])\n",
    "    [[0, 0], [5, 0], [5, 5], [13, 5], [13, 2], [13, 10], [15, 10]]\n",
    "\n",
    "    \n",
    "    \"\"\"\n",
    "\n",
    "    # Track position of submarine\n",
    "    # Each element is a vector [x, y]\n",
    "    # x = horizontal position\n",
    "    # y = vertical position (measured down from 0)\n",
    "\n",
    "    submarine_course = [[0, 0]]\n",
    "\n",
    "    for command in planned_course:\n",
    "\n",
    "        new_position = submarine_course[-1].copy()\n",
    "\n",
    "        command = command.split(\" \")\n",
    "\n",
    "        if command[0] in [\"forward\"]:\n",
    "            new_position[0] += int(command[1])\n",
    "\n",
    "        elif command[0] in [\"down\"]:\n",
    "            new_position[1] += int(command[1])\n",
    "\n",
    "        elif command[0] in [\"up\"]:\n",
    "            new_position[1] -= int(command[1])\n",
    "\n",
    "        submarine_course.append(new_position)\n",
    "\n",
    "    return submarine_course\n",
    "\n",
    "\n",
    "import doctest\n",
    "doctest.testmod()\n",
    "\n"
   ]
  },
  {
   "cell_type": "code",
   "execution_count": 26,
   "id": "e430193e",
   "metadata": {},
   "outputs": [
    {
     "name": "stdout",
     "output_type": "stream",
     "text": [
      "2027977\n"
     ]
    }
   ],
   "source": [
    "with open(\"day2-input.txt\", \"r\") as infile:\n",
    "    sub_plan = [line for line in infile]\n",
    "    \n",
    "sub_course = submarine_command(sub_plan)\n",
    "print(sub_course[-1][0]*sub_course[-1][1])"
   ]
  },
  {
   "cell_type": "markdown",
   "id": "a8a5d7a3",
   "metadata": {},
   "source": [
    "## Part Two\n",
    "\n",
    "Based on your calculations, the planned course doesn't seem to make any sense. You find the submarine manual and discover that the process is actually slightly more complicated.\n",
    "\n",
    "In addition to horizontal position and depth, you'll also need to track a third value, aim, which also starts at 0. The commands also mean something entirely different than you first thought:\n",
    "\n",
    "- down X increases your aim by X units.\n",
    "- up X decreases your aim by X units.\n",
    "- forward X does two things:\n",
    "  - It increases your horizontal position by X units.\n",
    "  - It increases your depth by your aim multiplied by X.\n",
    "\n",
    "\n",
    "Again note that since you're on a submarine, down and up do the opposite of what you might expect: \"down\" means aiming in the positive direction.\n",
    "\n",
    "Now, the above example does something different:\n",
    "\n",
    "- forward 5 adds 5 to your horizontal position, a total of 5. Because your aim is 0, your depth does not change.\n",
    "- down 5 adds 5 to your aim, resulting in a value of 5.\n",
    "- forward 8 adds 8 to your horizontal position, a total of 13. Because your aim is 5, your depth increases by 8*5=40.\n",
    "- up 3 decreases your aim by 3, resulting in a value of 2.\n",
    "- down 8 adds 8 to your aim, resulting in a value of 10.\n",
    "- forward 2 adds 2 to your horizontal position, a total of 15. Because your aim is 10, your depth increases by 2*10=20 to a total of 60.\n",
    "\n",
    "After following these new instructions, you would have a horizontal position of 15 and a depth of 60. (Multiplying these produces 900.)\n",
    "\n",
    "Using this new interpretation of the commands, calculate the horizontal position and depth you would have after following the planned course. What do you get if you multiply your final horizontal position by your final depth?"
   ]
  },
  {
   "cell_type": "code",
   "execution_count": 32,
   "id": "3a8a808a",
   "metadata": {},
   "outputs": [
    {
     "data": {
      "text/plain": [
       "TestResults(failed=0, attempted=2)"
      ]
     },
     "execution_count": 32,
     "metadata": {},
     "output_type": "execute_result"
    }
   ],
   "source": [
    "def submarine_command_v2(planned_course):\n",
    "    \"\"\"\n",
    "    Returns position vectors of submarine given planned course, with aim\n",
    "\n",
    "    >>> submarine_command_v2([\"forward 5\", \"down 5\", \"forward 8\", \"up 3\", \"down 8\", \"forward 2\"])\n",
    "    [[0, 0, 0], [5, 0, 0], [5, 0, 5], [13, 40, 5], [13, 40, 2], [13, 40, 10], [15, 60, 10]]\n",
    "\n",
    "\n",
    "    \"\"\"\n",
    "\n",
    "    # Track position of submarine\n",
    "    # Each element is a vector [x, y, z]\n",
    "    # x = horizontal position\n",
    "    # y = vertical position (measured down from 0)\n",
    "    # z = aim\n",
    "\n",
    "    submarine_course = [[0, 0, 0]]\n",
    "\n",
    "    for command in planned_course:\n",
    "\n",
    "        new_position = submarine_course[-1].copy()\n",
    "\n",
    "        command = command.split(\" \")\n",
    "\n",
    "        # down X increases your aim by X units.\n",
    "        if command[0] in [\"down\"]:\n",
    "            new_position[2] += int(command[1])\n",
    "\n",
    "        # up X decreases your aim by X units.\n",
    "        elif command[0] in [\"up\"]:\n",
    "            new_position[2] -= int(command[1])\n",
    "\n",
    "        # forward X does two things:\n",
    "        # - It increases your horizontal position by X units.\n",
    "        # - It increases your depth by your aim multiplied by X.\n",
    "        elif command[0] in [\"forward\"]:\n",
    "            new_position[0] += int(command[1])\n",
    "            new_position[1] += new_position[2] * int(command[1])\n",
    "\n",
    "        submarine_course.append(new_position)\n",
    "\n",
    "    return submarine_course\n",
    "\n",
    "\n",
    "doctest.testmod()\n"
   ]
  },
  {
   "cell_type": "code",
   "execution_count": 33,
   "id": "628ad7d6",
   "metadata": {},
   "outputs": [
    {
     "name": "stdout",
     "output_type": "stream",
     "text": [
      "1903644897\n"
     ]
    }
   ],
   "source": [
    "sub_course = submarine_command_v2(sub_plan)\n",
    "print(sub_course[-1][0]*sub_course[-1][1])"
   ]
  }
 ],
 "metadata": {
  "kernelspec": {
   "display_name": "Python 3 (ipykernel)",
   "language": "python",
   "name": "python3"
  },
  "language_info": {
   "codemirror_mode": {
    "name": "ipython",
    "version": 3
   },
   "file_extension": ".py",
   "mimetype": "text/x-python",
   "name": "python",
   "nbconvert_exporter": "python",
   "pygments_lexer": "ipython3",
   "version": "3.9.7"
  }
 },
 "nbformat": 4,
 "nbformat_minor": 5
}
