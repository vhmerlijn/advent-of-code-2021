{
 "cells": [
  {
   "cell_type": "markdown",
   "id": "1a04bcd2",
   "metadata": {},
   "source": [
    "## Day 3: Binary Diagnostic\n",
    "\n",
    "The submarine has been making some odd creaking noises, so you ask it to produce a diagnostic report just in case.\n",
    "\n",
    "The diagnostic report (your puzzle input) consists of a list of binary numbers which, when decoded properly, can tell you many useful things about the conditions of the submarine. The first parameter to check is the power consumption.\n",
    "\n",
    "You need to use the binary numbers in the diagnostic report to generate two new binary numbers (called the gamma rate and the epsilon rate). The power consumption can then be found by multiplying the gamma rate by the epsilon rate.\n",
    "\n",
    "Each bit in the gamma rate can be determined by finding the most common bit in the corresponding position of all numbers in the diagnostic report. For example, given the following diagnostic report:\n",
    "\n",
    "```    \n",
    "00100\n",
    "11110\n",
    "10110\n",
    "10111\n",
    "10101\n",
    "01111\n",
    "00111\n",
    "11100\n",
    "10000\n",
    "11001\n",
    "00010\n",
    "01010\n",
    "```\n",
    "Considering only the first bit of each number, there are five 0 bits and seven 1 bits. Since the most common bit is 1, the first bit of the gamma rate is 1.\n",
    "\n",
    "The most common second bit of the numbers in the diagnostic report is 0, so the second bit of the gamma rate is 0.\n",
    "\n",
    "The most common value of the third, fourth, and fifth bits are 1, 1, and 0, respectively, and so the final three bits of the gamma rate are 110.\n",
    "\n",
    "So, the gamma rate is the binary number 10110, or 22 in decimal.\n",
    "\n",
    "The epsilon rate is calculated in a similar way; rather than use the most common bit, the least common bit from each position is used. So, the epsilon rate is 01001, or 9 in decimal. Multiplying the gamma rate (22) by the epsilon rate (9) produces the power consumption, 198.\n",
    "\n",
    "Use the binary numbers in your diagnostic report to calculate the gamma rate and epsilon rate, then multiply them together. What is the power consumption of the submarine? (Be sure to represent your answer in decimal, not binary.)\n",
    "\n"
   ]
  },
  {
   "cell_type": "code",
   "execution_count": 12,
   "id": "338d04b6",
   "metadata": {},
   "outputs": [
    {
     "data": {
      "text/plain": [
       "TestResults(failed=0, attempted=2)"
      ]
     },
     "execution_count": 12,
     "metadata": {},
     "output_type": "execute_result"
    }
   ],
   "source": [
    "def decode_diagnostic_report(diagnostic_report):\n",
    "    \"\"\"\n",
    "    Decodes a diagnostic report and returns power consumption.\n",
    "\n",
    "    >>> decode_diagnostic_report(['00100', '11110', '10110', '10111', '10101', '01111', '00111', '11100', '10000', '11001', '00010', '01010'])\n",
    "    198\n",
    "\n",
    "    \"\"\"\n",
    "    \n",
    "    \n",
    "    binary_gamma = \"\"\n",
    "    binary_epsilon = \"\"\n",
    "    \n",
    "    for i in range(0, len(diagnostic_report[0])):\n",
    "        number_bits = [x[i] for x in diagnostic_report]\n",
    "        binary_gamma += max(set(number_bits), key=number_bits.count)\n",
    "        binary_epsilon += min(set(number_bits), key=number_bits.count)\n",
    "        \n",
    "    return int(binary_gamma, 2)*int(binary_epsilon, 2)\n",
    "\n",
    "\n",
    "import doctest\n",
    "doctest.testmod()\n",
    "\n",
    "\n"
   ]
  },
  {
   "cell_type": "code",
   "execution_count": 13,
   "id": "f3f108f3",
   "metadata": {},
   "outputs": [
    {
     "data": {
      "text/plain": [
       "2972336"
      ]
     },
     "execution_count": 13,
     "metadata": {},
     "output_type": "execute_result"
    }
   ],
   "source": [
    "with open(\"day3-input.txt\", \"r\") as infile:\n",
    "    diag_report = [line for line in infile]\n",
    "    \n",
    "decode_diagnostic_report(diag_report)"
   ]
  },
  {
   "cell_type": "markdown",
   "id": "bbbafb02",
   "metadata": {},
   "source": [
    "## Part Two\n",
    "\n",
    "Next, you should verify the life support rating, which can be determined by multiplying the oxygen generator rating by the CO2 scrubber rating.\n",
    "\n",
    "Both the oxygen generator rating and the CO2 scrubber rating are values that can be found in your diagnostic report - finding them is the tricky part. Both values are located using a similar process that involves filtering out values until only one remains. Before searching for either rating value, start with the full list of binary numbers from your diagnostic report and consider just the first bit of those numbers. Then:\n",
    "\n",
    "- Keep only numbers selected by the bit criteria for the type of rating value for which you are searching. Discard numbers which do not match the bit criteria.\n",
    "- If you only have one number left, stop; this is the rating value for which you are searching.\n",
    "- Otherwise, repeat the process, considering the next bit to the right.\n",
    "\n",
    "The bit criteria depends on which type of rating value you want to find:\n",
    "\n",
    "- To find oxygen generator rating, determine the most common value (0 or 1) in the current bit position, and keep only numbers with that bit in that position. If 0 and 1 are equally common, keep values with a 1 in the position being considered.\n",
    "- To find CO2 scrubber rating, determine the least common value (0 or 1) in the current bit position, and keep only numbers with that bit in that position. If 0 and 1 are equally common, keep values with a 0 in the position being considered.\n",
    "\n",
    "For example, to determine the oxygen generator rating value using the same example diagnostic report from above:\n",
    "\n",
    "- Start with all 12 numbers and consider only the first bit of each number. There are more 1 bits (7) than 0 bits (5), so keep only the 7 numbers with a 1 in the first position: 11110, 10110, 10111, 10101, 11100, 10000, and 11001.\n",
    "- Then, consider the second bit of the 7 remaining numbers: there are more 0 bits (4) than 1 bits (3), so keep only the 4 numbers with a 0 in the second position: 10110, 10111, 10101, and 10000.\n",
    "- In the third position, three of the four numbers have a 1, so keep those three: 10110, 10111, and 10101.\n",
    "- In the fourth position, two of the three numbers have a 1, so keep those two: 10110 and 10111.\n",
    "- In the fifth position, there are an equal number of 0 bits and 1 bits (one each). So, to find the oxygen generator rating, keep the number with a 1 in that position: 10111.\n",
    "- As there is only one number left, stop; the oxygen generator rating is 10111, or 23 in decimal.\n",
    "\n",
    "Then, to determine the CO2 scrubber rating value from the same example above:\n",
    "\n",
    "- Start again with all 12 numbers and consider only the first bit of each number. There are fewer 0 bits (5) than 1 bits (7), so keep only the 5 numbers with a 0 in the first position: 00100, 01111, 00111, 00010, and 01010.\n",
    "- Then, consider the second bit of the 5 remaining numbers: there are fewer 1 bits (2) than 0 bits (3), so keep only the 2 numbers with a 1 in the second position: 01111 and 01010.\n",
    "- In the third position, there are an equal number of 0 bits and 1 bits (one each). So, to find the CO2 scrubber rating, keep the number with a 0 in that position: 01010.\n",
    "- As there is only one number left, stop; the CO2 scrubber rating is 01010, or 10 in decimal.\n",
    "\n",
    "Finally, to find the life support rating, multiply the oxygen generator rating (23) by the CO2 scrubber rating (10) to get 230.\n",
    "\n",
    "Use the binary numbers in your diagnostic report to calculate the oxygen generator rating and CO2 scrubber rating, then multiply them together. What is the life support rating of the submarine? (Be sure to represent your answer in decimal, not binary.)"
   ]
  },
  {
   "cell_type": "code",
   "execution_count": 14,
   "id": "017dd3ad",
   "metadata": {},
   "outputs": [
    {
     "data": {
      "text/plain": [
       "TestResults(failed=0, attempted=2)"
      ]
     },
     "execution_count": 14,
     "metadata": {},
     "output_type": "execute_result"
    }
   ],
   "source": [
    "def decode_diagnostic_report_life_support(diagnostic_report):\n",
    "    \"\"\"\n",
    "    Decodes a diagnostic report and returns life support rating.\n",
    "\n",
    "    >>> decode_diagnostic_report_life_support(['00100', '11110', '10110', '10111', '10101', '01111', '00111', '11100', '10000', '11001', '00010', '01010'])\n",
    "    230\n",
    "\n",
    "    \"\"\"\n",
    "    \n",
    "    bit_length = len(diagnostic_report[0])\n",
    "        \n",
    "    diagnostic_report_oxygen = diagnostic_report.copy()\n",
    "\n",
    "    diagnostic_report_co2 = diagnostic_report.copy()\n",
    "\n",
    "    \n",
    "    \n",
    "    for i in range(0, bit_length):\n",
    "        # Oxygen: determine the most common value (0 or 1) in the current bit position, \n",
    "        # and keep only numbers with that bit in that position. If 0 and 1 are equally \n",
    "        # common, keep values with a 1 in the position being considered.\n",
    "        if len(diagnostic_report_oxygen) > 1:\n",
    "            number_bits = [x[i] for x in diagnostic_report_oxygen]\n",
    "        \n",
    "            if number_bits.count('1') >= number_bits.count('0'):\n",
    "                keep_bits = '1'\n",
    "            else:\n",
    "                keep_bits = '0'\n",
    "        \n",
    "            diagnostic_report_oxygen = [x for x in diagnostic_report_oxygen if x[i] == keep_bits]        \n",
    "\n",
    "        # To find CO2 scrubber rating, determine the least common value (0 or 1) in the \n",
    "        # current bit position, and keep only numbers with that bit in that position. \n",
    "        # If 0 and 1 are equally common, keep values with a 0 in the position being considered.\n",
    "        if len(diagnostic_report_co2) > 1:\n",
    "            number_bits = [x[i] for x in diagnostic_report_co2]\n",
    "        \n",
    "            if number_bits.count('0') <= number_bits.count('1'):\n",
    "                keep_bits = '0'\n",
    "            else:\n",
    "                keep_bits = '1'\n",
    "        \n",
    "            diagnostic_report_co2 = [x for x in diagnostic_report_co2 if x[i] == keep_bits]   \n",
    "\n",
    "        \n",
    "    return int(diagnostic_report_co2[0], 2)*int(diagnostic_report_oxygen[0], 2)\n",
    "\n",
    "doctest.testmod()\n",
    "\n",
    "   \n",
    "    \n"
   ]
  },
  {
   "cell_type": "code",
   "execution_count": 15,
   "id": "1ba7c89b",
   "metadata": {},
   "outputs": [
    {
     "data": {
      "text/plain": [
       "3368358"
      ]
     },
     "execution_count": 15,
     "metadata": {},
     "output_type": "execute_result"
    }
   ],
   "source": [
    "decode_diagnostic_report_life_support(diag_report)"
   ]
  }
 ],
 "metadata": {
  "kernelspec": {
   "display_name": "Python 3 (ipykernel)",
   "language": "python",
   "name": "python3"
  },
  "language_info": {
   "codemirror_mode": {
    "name": "ipython",
    "version": 3
   },
   "file_extension": ".py",
   "mimetype": "text/x-python",
   "name": "python",
   "nbconvert_exporter": "python",
   "pygments_lexer": "ipython3",
   "version": "3.9.7"
  }
 },
 "nbformat": 4,
 "nbformat_minor": 5
}
