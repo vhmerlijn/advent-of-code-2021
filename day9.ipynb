{
 "cells": [
  {
   "cell_type": "markdown",
   "id": "52f7d5c4",
   "metadata": {},
   "source": [
    "## Day 9: Smoke Basin\n",
    "\n",
    "These caves seem to be lava tubes. Parts are even still volcanically active; small hydrothermal vents release smoke into the caves that slowly settles like rain.\n",
    "\n",
    "If you can model how the smoke flows through the caves, you might be able to avoid it and be that much safer. The submarine generates a heightmap of the floor of the nearby caves for you (your puzzle input).\n",
    "\n",
    "Smoke flows to the lowest point of the area it's in. For example, consider the following heightmap:\n",
    "\n",
    "```\n",
    "2199943210\n",
    "3987894921\n",
    "9856789892\n",
    "8767896789\n",
    "9899965678\n",
    "```\n",
    "\n",
    "Each number corresponds to the height of a particular location, where 9 is the highest and 0 is the lowest a location can be.\n",
    "\n",
    "Your first goal is to find the low points - the locations that are lower than any of its adjacent locations. Most locations have four adjacent locations (up, down, left, and right); locations on the edge or corner of the map have three or two adjacent locations, respectively. (Diagonal locations do not count as adjacent.)\n",
    "\n",
    "In the above example, there are four low points, all highlighted: two are in the first row (a 1 and a 0), one is in the third row (a 5), and one is in the bottom row (also a 5). All other locations on the heightmap have some lower adjacent location, and so are not low points.\n",
    "\n",
    "The risk level of a low point is 1 plus its height. In the above example, the risk levels of the low points are 2, 1, 6, and 6. The sum of the risk levels of all low points in the heightmap is therefore 15.\n",
    "\n",
    "Find all of the low points on your heightmap. What is the sum of the risk levels of all low points on your heightmap?\n",
    "\n"
   ]
  },
  {
   "cell_type": "code",
   "execution_count": 12,
   "id": "83fec372",
   "metadata": {},
   "outputs": [
    {
     "name": "stdout",
     "output_type": "stream",
     "text": [
      "[[9 9 9 9 9 9 9 9 9 9 9 9]\n",
      " [9 2 1 9 9 9 4 3 2 1 0 9]\n",
      " [9 3 9 8 7 8 9 4 9 2 1 9]\n",
      " [9 9 8 5 6 7 8 9 8 9 2 9]\n",
      " [9 8 7 6 7 8 9 6 7 8 9 9]\n",
      " [9 9 8 9 9 9 6 5 6 7 8 9]\n",
      " [9 9 9 9 9 9 9 9 9 9 9 9]]\n"
     ]
    },
    {
     "data": {
      "text/plain": [
       "0"
      ]
     },
     "execution_count": 12,
     "metadata": {},
     "output_type": "execute_result"
    }
   ],
   "source": [
    "import numpy as np\n",
    "\n",
    "def read_heightmap(filename):\n",
    "    \"\"\"\n",
    "    Read heightmap file into numpy matrix\n",
    "    \n",
    "    \n",
    "    \"\"\"\n",
    "    \n",
    "    with open(filename, \"r\") as infile:\n",
    "        height_raw = [list(map(int, l.strip())) for l in infile]\n",
    "        \n",
    "    # Pad with 9s around the edges to correctly treat points on the edges - \n",
    "    # points outside the map always considered higher\n",
    "    height_raw = [[9]*len(height_raw[0])] + height_raw\n",
    "    height_raw += [height_raw[0]]\n",
    "    height_raw = [[9] + x + [9] for x in height_raw]\n",
    "    \n",
    "    # Convert to numpy array for ease of calculations\n",
    "    height_matrix = np.matrix(height_raw)\n",
    "        \n",
    "    return height_matrix\n",
    "\n",
    "def find_lowest_points(filename):\n",
    "    \"\"\"\n",
    "    Find lowest points in heightmap\n",
    "\n",
    "    \n",
    "    \"\"\"\n",
    "\n",
    "    height_matrix = read_heightmap(filename)\n",
    "    \n",
    "    print(height_matrix)\n",
    "    \n",
    "    return 0\n",
    "    \n",
    "find_lowest_points(\"day9-example.txt\")\n"
   ]
  }
 ],
 "metadata": {
  "kernelspec": {
   "display_name": "Python 3 (ipykernel)",
   "language": "python",
   "name": "python3"
  },
  "language_info": {
   "codemirror_mode": {
    "name": "ipython",
    "version": 3
   },
   "file_extension": ".py",
   "mimetype": "text/x-python",
   "name": "python",
   "nbconvert_exporter": "python",
   "pygments_lexer": "ipython3",
   "version": "3.9.7"
  }
 },
 "nbformat": 4,
 "nbformat_minor": 5
}
