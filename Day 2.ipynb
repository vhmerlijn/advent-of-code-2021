{
 "cells": [
  {
   "cell_type": "markdown",
   "id": "2c896a6f",
   "metadata": {},
   "source": [
    "## Day 2: Dive!\n",
    "\n",
    "Now, you need to figure out how to pilot this thing.\n",
    "\n",
    "It seems like the submarine can take a series of commands like forward 1, down 2, or up 3:\n",
    "\n",
    "forward X increases the horizontal position by X units.\n",
    "down X increases the depth by X units.\n",
    "up X decreases the depth by X units.\n",
    "Note that since you're on a submarine, down and up affect your depth, and so they have the opposite result of what you might expect.\n",
    "\n",
    "The submarine seems to already have a planned course (your puzzle input). You should probably figure out where it's going. For example:\n",
    "\n",
    "```\n",
    "forward 5\n",
    "down 5\n",
    "forward 8\n",
    "up 3\n",
    "down 8\n",
    "forward 2\n",
    "```\n",
    "\n",
    "Your horizontal position and depth both start at 0. The steps above would then modify them as follows:\n",
    "\n",
    "- forward 5 adds 5 to your horizontal position, a total of 5.\n",
    "- down 5 adds 5 to your depth, resulting in a value of 5.\n",
    "- forward 8 adds 8 to your horizontal position, a total of 13.\n",
    "- up 3 decreases your depth by 3, resulting in a value of 2.\n",
    "- down 8 adds 8 to your depth, resulting in a value of 10.\n",
    "- forward 2 adds 2 to your horizontal position, a total of 15.\n",
    "\n",
    "After following these instructions, you would have a horizontal position of 15 and a depth of 10. (Multiplying these together produces 150.)\n",
    "\n",
    "Calculate the horizontal position and depth you would have after following the planned course. What do you get if you multiply your final horizontal position by your final depth?"
   ]
  },
  {
   "cell_type": "code",
   "execution_count": 18,
   "id": "999c99af",
   "metadata": {},
   "outputs": [
    {
     "data": {
      "text/plain": [
       "[[0, 0], [5, 0], [5, 5], [13, 5], [13, 2], [13, 10], [15, 10]]"
      ]
     },
     "execution_count": 18,
     "metadata": {},
     "output_type": "execute_result"
    }
   ],
   "source": [
    "\n",
    "def submarine_command(planned_course):\n",
    "    \"\"\"\n",
    "    Returns position vectors of submarine given planned course\n",
    "    \n",
    "    >>> submarine_command([\"forward 5\", \"down 5\", \"forward 8\", \"up 3\", \"down 8\", \"forward 2\"])\n",
    "    [[0, 0], [5, 0], [5, 5], [13, 5], [13, 2], [13, 10], [15, 10]]\n",
    "\n",
    "    \n",
    "    \"\"\"\n",
    "\n",
    "    # Track position of submarine\n",
    "    # Each element is a vector [x, y]\n",
    "    # x = horizontal position\n",
    "    # y = vertical position (measured down from 0)\n",
    "\n",
    "    submarine_course = [[0, 0]]\n",
    "\n",
    "    for command in planned_course:\n",
    "\n",
    "        new_position = submarine_course[-1].copy()\n",
    "\n",
    "        command = command.split(\" \")\n",
    "\n",
    "        if command[0] in [\"forward\"]:\n",
    "            new_position[0] += int(command[1])\n",
    "\n",
    "        elif command[0] in [\"down\"]:\n",
    "            new_position[1] += int(command[1])\n",
    "\n",
    "        elif command[0] in [\"up\"]:\n",
    "            new_position[1] -= int(command[1])\n",
    "\n",
    "        submarine_course.append(new_position)\n",
    "\n",
    "    return submarine_course\n",
    "\n",
    "\n",
    "submarine_command([\"forward 5\", \"down 5\", \"forward 8\", \"up 3\", \"down 8\", \"forward 2\"])\n"
   ]
  }
 ],
 "metadata": {
  "kernelspec": {
   "display_name": "Python 3 (ipykernel)",
   "language": "python",
   "name": "python3"
  },
  "language_info": {
   "codemirror_mode": {
    "name": "ipython",
    "version": 3
   },
   "file_extension": ".py",
   "mimetype": "text/x-python",
   "name": "python",
   "nbconvert_exporter": "python",
   "pygments_lexer": "ipython3",
   "version": "3.9.7"
  }
 },
 "nbformat": 4,
 "nbformat_minor": 5
}
