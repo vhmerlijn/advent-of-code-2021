{
 "cells": [
  {
   "cell_type": "markdown",
   "id": "f6049f5c",
   "metadata": {},
   "source": [
    "## Day 5: Hydrothermal Venture\n",
    "\n",
    "You come across a field of hydrothermal vents on the ocean floor! These vents constantly produce large, opaque clouds, so it would be best to avoid them if possible.\n",
    "\n",
    "They tend to form in lines; the submarine helpfully produces a list of nearby lines of vents (your puzzle input) for you to review. For example:\n",
    "\n",
    "```\n",
    "0,9 -> 5,9\n",
    "8,0 -> 0,8\n",
    "9,4 -> 3,4\n",
    "2,2 -> 2,1\n",
    "7,0 -> 7,4\n",
    "6,4 -> 2,0\n",
    "0,9 -> 2,9\n",
    "3,4 -> 1,4\n",
    "0,0 -> 8,8\n",
    "5,5 -> 8,2\n",
    "```\n",
    "\n",
    "Each line of vents is given as a line segment in the format x1,y1 -> x2,y2 where x1,y1 are the coordinates of one end the line segment and x2,y2 are the coordinates of the other end. These line segments include the points at both ends. In other words:\n",
    "\n",
    "- An entry like 1,1 -> 1,3 covers points 1,1, 1,2, and 1,3.\n",
    "- An entry like 9,7 -> 7,7 covers points 9,7, 8,7, and 7,7.\n",
    "\n",
    "For now, only consider horizontal and vertical lines: lines where either x1 = x2 or y1 = y2.\n",
    "\n",
    "So, the horizontal and vertical lines from the above list would produce the following diagram:\n",
    "\n",
    "```\n",
    ".......1..\n",
    "..1....1..\n",
    "..1....1..\n",
    ".......1..\n",
    ".112111211\n",
    "..........\n",
    "..........\n",
    "..........\n",
    "..........\n",
    "222111....\n",
    "```\n",
    "\n",
    "In this diagram, the top left corner is 0,0 and the bottom right corner is 9,9. Each position is shown as the number of lines which cover that point or . if no line covers that point. The top-left pair of 1s, for example, comes from 2,2 -> 2,1; the very bottom row is formed by the overlapping lines 0,9 -> 5,9 and 0,9 -> 2,9.\n",
    "\n",
    "To avoid the most dangerous areas, you need to determine the number of points where at least two lines overlap. In the above example, this is anywhere in the diagram with a 2 or larger - a total of 5 points.\n",
    "\n",
    "Consider only horizontal and vertical lines. At how many points do at least two lines overlap?"
   ]
  },
  {
   "cell_type": "code",
   "execution_count": 130,
   "id": "292930b1",
   "metadata": {},
   "outputs": [
    {
     "data": {
      "text/plain": [
       "TestResults(failed=0, attempted=2)"
      ]
     },
     "execution_count": 130,
     "metadata": {},
     "output_type": "execute_result"
    }
   ],
   "source": [
    "import copy\n",
    "import numpy as np\n",
    "\n",
    "\n",
    "def read_vent_input(filename):\n",
    "    \"\"\"\n",
    "    Parse vent data input from .txt file\n",
    "\n",
    "    \"\"\"\n",
    "\n",
    "    with open(filename, \"r\") as infile:\n",
    "        vent_data_raw = [l.strip() for l in infile]\n",
    "\n",
    "    vent_data = []\n",
    "\n",
    "    for x in vent_data_raw:\n",
    "        vent_data.append([list(map(int, y.split(\",\"))) for y in x.split(\" -> \")])\n",
    "\n",
    "    return vent_data\n",
    "\n",
    "\n",
    "def display_vent_diagram(vent_diagram):\n",
    "    \"\"\"\n",
    "    Pretty printing of vent diagram\n",
    "\n",
    "    \"\"\"\n",
    "\n",
    "    vent_diagram = [list(map(str, x)) for x in vent_diagram]\n",
    "\n",
    "    [print(\"\".join(x).replace(\"0\", \".\")) for x in vent_diagram]\n",
    "\n",
    "    return 0\n",
    "\n",
    "\n",
    "def create_vent_diagram(filename, display_diagram=False, diagonal=False):\n",
    "    \"\"\"\n",
    "    Create vent diagram\n",
    "\n",
    "    \"\"\"\n",
    "\n",
    "    vent_data = read_vent_input(filename)\n",
    "\n",
    "    # Set up matrix to store diagram\n",
    "    size_x = max([max(x[0][0], x[1][0]) for x in vent_data])\n",
    "    size_y = max([max(x[0][1], x[1][1]) for x in vent_data])\n",
    "\n",
    "    temp_x = [0] * (size_x + 1)\n",
    "    vent_diagram = [copy.deepcopy(temp_x) for i in range(0, size_y + 1)]\n",
    "\n",
    "    # For each datapoint in vent data, update vent diagram\n",
    "    for v in vent_data:\n",
    "\n",
    "        if (\n",
    "            (v[0][0] == v[1][0])\n",
    "            or (v[0][1] == v[1][1])\n",
    "            or (diagonal and (abs(v[0][0] - v[1][0]) == abs(v[0][1] - v[1][1])))\n",
    "        ):\n",
    "\n",
    "            # There's probably a cleaner way of doing this 😤\n",
    "            x1 = min(v[0][0], v[1][0])\n",
    "            x2 = max(v[0][0], v[1][0])\n",
    "            y1 = min(v[0][1], v[1][1])\n",
    "            y2 = max(v[0][1], v[1][1])\n",
    "\n",
    "            # Generate points in betweena\n",
    "\n",
    "            if x1 == x2:\n",
    "                vent_points = [[x1, y] for y in range(y1, y2 + 1)]\n",
    "            elif y1 == y2:\n",
    "                vent_points = [[x, y1] for x in range(x1, x2 + 1)]\n",
    "            else:\n",
    "                # Also consider diagonal vents 🤔\n",
    "                x_sign = int(np.sign(v[1][0] - v[0][0]))\n",
    "                x_points = [x for x in range(v[0][0], v[1][0] + x_sign, x_sign)]\n",
    "\n",
    "                y_sign = int(np.sign(v[1][1] - v[0][1]))\n",
    "                y_points = [y for y in range(v[0][1], v[1][1] + y_sign, y_sign)]\n",
    "\n",
    "                vent_points = [[x, y] for x, y in zip(x_points, y_points)]\n",
    "\n",
    "            for p in vent_points:\n",
    "                vent_diagram[p[1]][p[0]] += 1\n",
    "\n",
    "    if display_diagram:\n",
    "        display_vent_diagram(vent_diagram)\n",
    "\n",
    "    return vent_diagram\n",
    "\n",
    "\n",
    "def count_overlaps(filename, diagonal=False):\n",
    "    \"\"\"\n",
    "    Count overlapping points in vent diagram\n",
    "\n",
    "    >>> count_overlaps(\"day5-example.txt\")\n",
    "    5\n",
    "\n",
    "    >>> count_overlaps(\"day5-example.txt\", True)\n",
    "    12\n",
    "\n",
    "    \"\"\"\n",
    "\n",
    "    vent_diagram = create_vent_diagram(filename, False, diagonal)\n",
    "\n",
    "    num_overlaps = sum([sum([x > 1 for x in y]) for y in vent_diagram])\n",
    "\n",
    "    return num_overlaps\n",
    "\n",
    "\n",
    "import doctest\n",
    "\n",
    "doctest.testmod()\n"
   ]
  },
  {
   "cell_type": "code",
   "execution_count": 132,
   "id": "e31cf6dc",
   "metadata": {},
   "outputs": [
    {
     "data": {
      "text/plain": [
       "6572"
      ]
     },
     "execution_count": 132,
     "metadata": {},
     "output_type": "execute_result"
    }
   ],
   "source": [
    "count_overlaps(\"day5-input.txt\")"
   ]
  },
  {
   "cell_type": "markdown",
   "id": "d9d46963",
   "metadata": {},
   "source": [
    "## Part Two\n",
    "\n",
    "Unfortunately, considering only horizontal and vertical lines doesn't give you the full picture; you need to also consider diagonal lines.\n",
    "\n",
    "Because of the limits of the hydrothermal vent mapping system, the lines in your list will only ever be horizontal, vertical, or a diagonal line at exactly 45 degrees. In other words:\n",
    "\n",
    "- An entry like 1,1 -> 3,3 covers points 1,1, 2,2, and 3,3.\n",
    "- An entry like 9,7 -> 7,9 covers points 9,7, 8,8, and 7,9.\n",
    "\n",
    "Considering all lines from the above example would now produce the following diagram:\n",
    "\n",
    "```\n",
    "1.1....11.\n",
    ".111...2..\n",
    "..2.1.111.\n",
    "...1.2.2..\n",
    ".112313211\n",
    "...1.2....\n",
    "..1...1...\n",
    ".1.....1..\n",
    "1.......1.\n",
    "222111....\n",
    "```\n",
    "\n",
    "You still need to determine the number of points where at least two lines overlap. In the above example, this is still anywhere in the diagram with a 2 or larger - now a total of 12 points.\n",
    "\n",
    "Consider all of the lines. At how many points do at least two lines overlap?"
   ]
  },
  {
   "cell_type": "code",
   "execution_count": 133,
   "id": "70b70d89",
   "metadata": {},
   "outputs": [
    {
     "data": {
      "text/plain": [
       "21466"
      ]
     },
     "execution_count": 133,
     "metadata": {},
     "output_type": "execute_result"
    }
   ],
   "source": [
    "count_overlaps(\"day5-input.txt\", True)"
   ]
  }
 ],
 "metadata": {
  "kernelspec": {
   "display_name": "Python 3 (ipykernel)",
   "language": "python",
   "name": "python3"
  },
  "language_info": {
   "codemirror_mode": {
    "name": "ipython",
    "version": 3
   },
   "file_extension": ".py",
   "mimetype": "text/x-python",
   "name": "python",
   "nbconvert_exporter": "python",
   "pygments_lexer": "ipython3",
   "version": "3.9.7"
  }
 },
 "nbformat": 4,
 "nbformat_minor": 5
}
